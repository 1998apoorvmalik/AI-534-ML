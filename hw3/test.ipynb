{
 "cells": [
  {
   "cell_type": "code",
   "execution_count": 1,
   "metadata": {},
   "outputs": [
    {
     "name": "stdout",
     "output_type": "stream",
     "text": [
      "Train Data Shape: (1314, 80)\n",
      "Dev Data Shape: (146, 80)\n"
     ]
    },
    {
     "data": {
      "text/html": [
       "<div>\n",
       "<style scoped>\n",
       "    .dataframe tbody tr th:only-of-type {\n",
       "        vertical-align: middle;\n",
       "    }\n",
       "\n",
       "    .dataframe tbody tr th {\n",
       "        vertical-align: top;\n",
       "    }\n",
       "\n",
       "    .dataframe thead th {\n",
       "        text-align: right;\n",
       "    }\n",
       "</style>\n",
       "<table border=\"1\" class=\"dataframe\">\n",
       "  <thead>\n",
       "    <tr style=\"text-align: right;\">\n",
       "      <th></th>\n",
       "      <th>MSSubClass</th>\n",
       "      <th>MSZoning</th>\n",
       "      <th>LotFrontage</th>\n",
       "      <th>LotArea</th>\n",
       "      <th>Street</th>\n",
       "      <th>Alley</th>\n",
       "      <th>LotShape</th>\n",
       "      <th>LandContour</th>\n",
       "      <th>Utilities</th>\n",
       "      <th>LotConfig</th>\n",
       "      <th>...</th>\n",
       "      <th>PoolArea</th>\n",
       "      <th>PoolQC</th>\n",
       "      <th>Fence</th>\n",
       "      <th>MiscFeature</th>\n",
       "      <th>MiscVal</th>\n",
       "      <th>MoSold</th>\n",
       "      <th>YrSold</th>\n",
       "      <th>SaleType</th>\n",
       "      <th>SaleCondition</th>\n",
       "      <th>SalePrice</th>\n",
       "    </tr>\n",
       "  </thead>\n",
       "  <tbody>\n",
       "    <tr>\n",
       "      <th>0</th>\n",
       "      <td>60.0</td>\n",
       "      <td>RL</td>\n",
       "      <td>65.0</td>\n",
       "      <td>8450.0</td>\n",
       "      <td>Pave</td>\n",
       "      <td>NaN</td>\n",
       "      <td>Reg</td>\n",
       "      <td>Lvl</td>\n",
       "      <td>AllPub</td>\n",
       "      <td>Inside</td>\n",
       "      <td>...</td>\n",
       "      <td>0.0</td>\n",
       "      <td>NaN</td>\n",
       "      <td>NaN</td>\n",
       "      <td>NaN</td>\n",
       "      <td>0.0</td>\n",
       "      <td>2.0</td>\n",
       "      <td>2008.0</td>\n",
       "      <td>WD</td>\n",
       "      <td>Normal</td>\n",
       "      <td>208500.0</td>\n",
       "    </tr>\n",
       "    <tr>\n",
       "      <th>1</th>\n",
       "      <td>20.0</td>\n",
       "      <td>RL</td>\n",
       "      <td>80.0</td>\n",
       "      <td>9600.0</td>\n",
       "      <td>Pave</td>\n",
       "      <td>NaN</td>\n",
       "      <td>Reg</td>\n",
       "      <td>Lvl</td>\n",
       "      <td>AllPub</td>\n",
       "      <td>FR2</td>\n",
       "      <td>...</td>\n",
       "      <td>0.0</td>\n",
       "      <td>NaN</td>\n",
       "      <td>NaN</td>\n",
       "      <td>NaN</td>\n",
       "      <td>0.0</td>\n",
       "      <td>5.0</td>\n",
       "      <td>2007.0</td>\n",
       "      <td>WD</td>\n",
       "      <td>Normal</td>\n",
       "      <td>181500.0</td>\n",
       "    </tr>\n",
       "    <tr>\n",
       "      <th>2</th>\n",
       "      <td>60.0</td>\n",
       "      <td>RL</td>\n",
       "      <td>68.0</td>\n",
       "      <td>11250.0</td>\n",
       "      <td>Pave</td>\n",
       "      <td>NaN</td>\n",
       "      <td>IR1</td>\n",
       "      <td>Lvl</td>\n",
       "      <td>AllPub</td>\n",
       "      <td>Inside</td>\n",
       "      <td>...</td>\n",
       "      <td>0.0</td>\n",
       "      <td>NaN</td>\n",
       "      <td>NaN</td>\n",
       "      <td>NaN</td>\n",
       "      <td>0.0</td>\n",
       "      <td>9.0</td>\n",
       "      <td>2008.0</td>\n",
       "      <td>WD</td>\n",
       "      <td>Normal</td>\n",
       "      <td>223500.0</td>\n",
       "    </tr>\n",
       "    <tr>\n",
       "      <th>3</th>\n",
       "      <td>70.0</td>\n",
       "      <td>RL</td>\n",
       "      <td>60.0</td>\n",
       "      <td>9550.0</td>\n",
       "      <td>Pave</td>\n",
       "      <td>NaN</td>\n",
       "      <td>IR1</td>\n",
       "      <td>Lvl</td>\n",
       "      <td>AllPub</td>\n",
       "      <td>Corner</td>\n",
       "      <td>...</td>\n",
       "      <td>0.0</td>\n",
       "      <td>NaN</td>\n",
       "      <td>NaN</td>\n",
       "      <td>NaN</td>\n",
       "      <td>0.0</td>\n",
       "      <td>2.0</td>\n",
       "      <td>2006.0</td>\n",
       "      <td>WD</td>\n",
       "      <td>Abnorml</td>\n",
       "      <td>140000.0</td>\n",
       "    </tr>\n",
       "    <tr>\n",
       "      <th>4</th>\n",
       "      <td>60.0</td>\n",
       "      <td>RL</td>\n",
       "      <td>84.0</td>\n",
       "      <td>14260.0</td>\n",
       "      <td>Pave</td>\n",
       "      <td>NaN</td>\n",
       "      <td>IR1</td>\n",
       "      <td>Lvl</td>\n",
       "      <td>AllPub</td>\n",
       "      <td>FR2</td>\n",
       "      <td>...</td>\n",
       "      <td>0.0</td>\n",
       "      <td>NaN</td>\n",
       "      <td>NaN</td>\n",
       "      <td>NaN</td>\n",
       "      <td>0.0</td>\n",
       "      <td>12.0</td>\n",
       "      <td>2008.0</td>\n",
       "      <td>WD</td>\n",
       "      <td>Normal</td>\n",
       "      <td>250000.0</td>\n",
       "    </tr>\n",
       "  </tbody>\n",
       "</table>\n",
       "<p>5 rows × 80 columns</p>\n",
       "</div>"
      ],
      "text/plain": [
       "   MSSubClass MSZoning  LotFrontage  LotArea Street Alley LotShape  \\\n",
       "0        60.0       RL         65.0   8450.0   Pave   NaN      Reg   \n",
       "1        20.0       RL         80.0   9600.0   Pave   NaN      Reg   \n",
       "2        60.0       RL         68.0  11250.0   Pave   NaN      IR1   \n",
       "3        70.0       RL         60.0   9550.0   Pave   NaN      IR1   \n",
       "4        60.0       RL         84.0  14260.0   Pave   NaN      IR1   \n",
       "\n",
       "  LandContour Utilities LotConfig  ... PoolArea PoolQC Fence MiscFeature  \\\n",
       "0         Lvl    AllPub    Inside  ...      0.0    NaN   NaN         NaN   \n",
       "1         Lvl    AllPub       FR2  ...      0.0    NaN   NaN         NaN   \n",
       "2         Lvl    AllPub    Inside  ...      0.0    NaN   NaN         NaN   \n",
       "3         Lvl    AllPub    Corner  ...      0.0    NaN   NaN         NaN   \n",
       "4         Lvl    AllPub       FR2  ...      0.0    NaN   NaN         NaN   \n",
       "\n",
       "  MiscVal MoSold  YrSold  SaleType  SaleCondition  SalePrice  \n",
       "0     0.0    2.0  2008.0        WD         Normal   208500.0  \n",
       "1     0.0    5.0  2007.0        WD         Normal   181500.0  \n",
       "2     0.0    9.0  2008.0        WD         Normal   223500.0  \n",
       "3     0.0    2.0  2006.0        WD        Abnorml   140000.0  \n",
       "4     0.0   12.0  2008.0        WD         Normal   250000.0  \n",
       "\n",
       "[5 rows x 80 columns]"
      ]
     },
     "execution_count": 1,
     "metadata": {},
     "output_type": "execute_result"
    }
   ],
   "source": [
    "import pandas as pd\n",
    "import numpy as np\n",
    "\n",
    "# load the training data\n",
    "raw_train_data = pd.read_csv('my_train.csv')\n",
    "\n",
    "for col in raw_train_data.columns:\n",
    "    if pd.api.types.is_integer_dtype(raw_train_data[col]):\n",
    "        raw_train_data[col] = raw_train_data[col].astype(float)\n",
    "\n",
    "# convert the dtypes Series to a dictionary\n",
    "data_types = raw_train_data.dtypes.apply(lambda x: x.name).to_dict()\n",
    "\n",
    "# now load the development data with the same data types\n",
    "raw_dev_data = pd.read_csv('my_dev.csv', dtype=data_types)\n",
    "\n",
    "raw_train_data = raw_train_data.drop(raw_train_data.columns[0], axis=1)\n",
    "raw_dev_data = raw_dev_data.drop(raw_dev_data.columns[0], axis=1)\n",
    "\n",
    "print(\"Train Data Shape:\", raw_train_data.shape)\n",
    "print(\"Dev Data Shape:\", raw_dev_data.shape)\n",
    "\n",
    "raw_train_data.head()\n"
   ]
  },
  {
   "cell_type": "code",
   "execution_count": 2,
   "metadata": {},
   "outputs": [
    {
     "name": "stdout",
     "output_type": "stream",
     "text": [
      "7227\n"
     ]
    }
   ],
   "source": [
    "!for i in `seq 2 80`; do cat my_train.csv | cut -d ',' -f $i | sort | uniq | wc -l; done | awk '{s+=$1-1} END {print s}'"
   ]
  },
  {
   "cell_type": "markdown",
   "metadata": {},
   "source": [
    "# Part 2: Naive Binarization"
   ]
  },
  {
   "cell_type": "code",
   "execution_count": 3,
   "metadata": {},
   "outputs": [
    {
     "name": "stdout",
     "output_type": "stream",
     "text": [
      "Shape of X_train: (1314, 7226)\n",
      "Shape of Y_train: (1314,)\n",
      "Shape of X_dev: (146, 7226)\n",
      "Shape of Y_dev: (146,)\n",
      "Feature dimension size: 7226\n"
     ]
    }
   ],
   "source": [
    "from sklearn.preprocessing import OneHotEncoder\n",
    "\n",
    "train_data = raw_train_data.copy().astype(str)\n",
    "dev_data = raw_dev_data.copy().astype(str)\n",
    "\n",
    "X_train = train_data.iloc[:, :-1]\n",
    "y_train = train_data.iloc[:, -1]\n",
    "X_dev = dev_data.iloc[:, :-1]\n",
    "y_dev = dev_data.iloc[:, -1]\n",
    "\n",
    "encoder = OneHotEncoder(sparse_output=False, handle_unknown='ignore')\n",
    "encoder.fit(X_train)\n",
    "\n",
    "# more preprocessing\n",
    "X_train = encoder.transform(X_train)\n",
    "X_dev = encoder.transform(X_dev)\n",
    "\n",
    "# convert target to float and take log\n",
    "y_train = np.log(y_train.astype(float))\n",
    "y_dev = np.log(y_dev.astype(float))\n",
    "\n",
    "# print shapes\n",
    "print(\"Shape of X_train:\", X_train.shape)\n",
    "print(\"Shape of Y_train:\", y_train.shape)\n",
    "print(\"Shape of X_dev:\", X_dev.shape)\n",
    "print(\"Shape of Y_dev:\", y_dev.shape)\n",
    "\n",
    "print(\"Feature dimension size:\", len(encoder.get_feature_names_out()))\n"
   ]
  },
  {
   "cell_type": "code",
   "execution_count": 4,
   "metadata": {},
   "outputs": [],
   "source": [
    "from sklearn.linear_model import LinearRegression\n",
    "from sklearn.metrics import mean_squared_error, mean_squared_log_error\n",
    "\n",
    "model = LinearRegression()\n",
    "model.fit(X_train, y_train)\n",
    "\n",
    "y_pred_train = model.predict(X_train)\n",
    "y_pred_dev = model.predict(X_dev)"
   ]
  },
  {
   "cell_type": "code",
   "execution_count": 5,
   "metadata": {},
   "outputs": [
    {
     "name": "stdout",
     "output_type": "stream",
     "text": [
      "Train RMSE: 8.138076860823108e-15\n",
      "Dev RMSE: 0.15233237053005208\n"
     ]
    }
   ],
   "source": [
    "train_rmse = np.sqrt(mean_squared_error(y_train, y_pred_train))\n",
    "dev_rmse = np.sqrt(mean_squared_error(y_dev, y_pred_dev))\n",
    "\n",
    "print(\"Train RMSE:\", train_rmse)\n",
    "print(\"Dev RMSE:\", dev_rmse)"
   ]
  },
  {
   "cell_type": "markdown",
   "metadata": {},
   "source": [
    "# Part 3: Smart Binarization"
   ]
  },
  {
   "cell_type": "code",
   "execution_count": 6,
   "metadata": {},
   "outputs": [
    {
     "name": "stdout",
     "output_type": "stream",
     "text": [
      "Number of categorical columns: 43\n",
      "Number of numerical columns: 36\n",
      "Shape of X_train: (1314, 79)\n",
      "Shape of Y_train: (1314,)\n",
      "Shape of X_dev: (146, 79)\n",
      "Shape of Y_dev: (146,)\n",
      "Feature dimension size: 7226\n"
     ]
    }
   ],
   "source": [
    "from sklearn.compose import ColumnTransformer\n",
    "from sklearn.preprocessing import StandardScaler, MinMaxScaler, OneHotEncoder\n",
    "from sklearn.impute import SimpleImputer\n",
    "from sklearn.pipeline import Pipeline\n",
    "\n",
    "train_data = raw_train_data.copy()\n",
    "dev_data = raw_dev_data.copy()\n",
    "\n",
    "X_train = train_data.iloc[:, :-1]\n",
    "y_train = train_data.iloc[:, -1]\n",
    "X_dev = dev_data.iloc[:, :-1].astype(X_train.dtypes.to_dict())\n",
    "y_dev = dev_data.iloc[:, -1]\n",
    "\n",
    "# define the processors for numerical and categorical columns\n",
    "cat_processor = OneHotEncoder(sparse_output=False, handle_unknown='ignore')\n",
    "num_processor = MinMaxScaler(feature_range=(0, 2))\n",
    "\n",
    "\n",
    "# identify categorical and numerical columns\n",
    "cat_cols = X_train.select_dtypes(include=['object']).columns\n",
    "num_cols = X_train.select_dtypes(exclude=['object']).columns\n",
    "\n",
    "print(\"Number of categorical columns:\", len(cat_cols))\n",
    "print(\"Number of numerical columns:\", len(num_cols))\n",
    "\n",
    "\n",
    "# define transformers\n",
    "categorical_transformer = OneHotEncoder(handle_unknown='ignore')\n",
    "numerical_transformer = Pipeline(steps=[\n",
    "    ('imputer', SimpleImputer(strategy='mean')),\n",
    "    ('scaler', StandardScaler()) \n",
    "])\n",
    "\n",
    "\n",
    "# create a column transformer\n",
    "preprocessor = ColumnTransformer(\n",
    "    transformers=[\n",
    "        ('num', numerical_transformer, num_cols),\n",
    "        ('cat', categorical_transformer, cat_cols)\n",
    "    ])\n",
    "\n",
    "# print shapes\n",
    "print(\"Shape of X_train:\", X_train.shape)\n",
    "print(\"Shape of Y_train:\", y_train.shape)\n",
    "print(\"Shape of X_dev:\", X_dev.shape)\n",
    "print(\"Shape of Y_dev:\", y_dev.shape)\n",
    "\n",
    "print(\"Feature dimension size:\", len(encoder.get_feature_names_out()))"
   ]
  },
  {
   "cell_type": "code",
   "execution_count": 7,
   "metadata": {},
   "outputs": [
    {
     "name": "stdout",
     "output_type": "stream",
     "text": [
      "Train RMSLE: 0.09222022836049133\n",
      "Dev RMSLE: 0.12409504198160849\n"
     ]
    }
   ],
   "source": [
    "from sklearn.linear_model import LinearRegression\n",
    "from sklearn.metrics import mean_squared_error\n",
    "\n",
    "# create a pipeline that first preprocesses the data, then fits a linear model\n",
    "model = Pipeline(steps=[('preprocessor', preprocessor),\n",
    "                        ('regressor', LinearRegression())])\n",
    "# train the model\n",
    "model.fit(X_train, np.log(y_train))  # Using log of y_train for RMSLE\n",
    "\n",
    "y_pred_train = model.predict(X_train)   # predict on the training set\n",
    "y_pred_dev = model.predict(X_dev)       # predict on the development set\n",
    "\n",
    "# calculate RMSLE\n",
    "train_rmsle = np.sqrt(mean_squared_error(np.log(y_train), y_pred_train))\n",
    "dev_rmsle = np.sqrt(mean_squared_error(np.log(y_dev), y_pred_dev))\n",
    "print(\"Train RMSLE:\", train_rmsle)\n",
    "print(\"Dev RMSLE:\", dev_rmsle)"
   ]
  },
  {
   "cell_type": "markdown",
   "metadata": {},
   "source": [
    "# Part 4: Experimentation"
   ]
  },
  {
   "cell_type": "code",
   "execution_count": 8,
   "metadata": {},
   "outputs": [
    {
     "name": "stdout",
     "output_type": "stream",
     "text": [
      "Training model with alpha = 0.001, Dev RMSLE = 0.12410816587281105\n",
      "Training model with alpha = 0.01, Dev RMSLE = 0.12419736996477485\n",
      "Training model with alpha = 0.1, Dev RMSLE = 0.12493386537196319\n",
      "Training model with alpha = 1.0, Dev RMSLE = 0.12807766794586814\n",
      "Training model with alpha = 10.0, Dev RMSLE = 0.12758433865586125\n",
      "Training model with alpha = 100.0, Dev RMSLE = 0.12810140975489417\n",
      "Training model with alpha = 1000.0, Dev RMSLE = 0.13867804740978126\n",
      "Best alpha: 0.001\n",
      "Best RMSLE on dev set: 0.12410816587281105\n"
     ]
    }
   ],
   "source": [
    "from sklearn.linear_model import Ridge\n",
    "from sklearn.metrics import mean_squared_error\n",
    "import numpy as np\n",
    "\n",
    "\n",
    "# Define a range of alpha values to test\n",
    "alpha_values = np.logspace(-3, 3, 7)\n",
    "\n",
    "# Dictionary to store RMSLE for each alpha\n",
    "rmsle_scores = {}\n",
    "\n",
    "for alpha in alpha_values:\n",
    "    # Create a Ridge Regression model with the current alpha\n",
    "    ridge_model = Pipeline(steps=[\n",
    "        ('preprocessor', preprocessor),\n",
    "        ('regressor', Ridge(alpha=alpha))\n",
    "    ])\n",
    "\n",
    "    # Train the model\n",
    "    ridge_model.fit(X_train, np.log(y_train))  # Using log transformation for the target\n",
    "\n",
    "    # Predict on the development set\n",
    "    y_pred_dev = ridge_model.predict(X_dev)\n",
    "\n",
    "    # Calculate RMSLE and store it\n",
    "    rmsle = np.sqrt(mean_squared_error(np.log(y_dev), y_pred_dev))\n",
    "    rmsle_scores[alpha] = rmsle\n",
    "    print(\"Training model with alpha = {}, Dev RMSLE = {}\".format(alpha, rmsle))\n",
    "\n",
    "# Find the best alpha and its corresponding RMSLE\n",
    "best_alpha = min(rmsle_scores, key=rmsle_scores.get)\n",
    "best_rmsle = rmsle_scores[best_alpha]\n",
    "print(\"Best alpha:\", best_alpha)\n",
    "print(\"Best RMSLE on dev set:\", best_rmsle)\n",
    "\n"
   ]
  },
  {
   "cell_type": "code",
   "execution_count": 9,
   "metadata": {},
   "outputs": [
    {
     "name": "stdout",
     "output_type": "stream",
     "text": [
      "Train RMSLE: 0.09224811532127092\n",
      "Dev RMSLE: 0.12410816587281105\n"
     ]
    }
   ],
   "source": [
    "from sklearn.linear_model import LinearRegression\n",
    "from sklearn.metrics import mean_squared_error\n",
    "\n",
    "# create a pipeline that first preprocesses the data, then fits a linear model\n",
    "model = Pipeline(steps=[('preprocessor', preprocessor),\n",
    "                        ('regressor', Ridge(alpha=0.001))])\n",
    "# train the model\n",
    "model.fit(X_train, np.log(y_train))  # Using log of y_train for RMSLE\n",
    "\n",
    "y_pred_train = model.predict(X_train)   # predict on the training set\n",
    "y_pred_dev = model.predict(X_dev)       # predict on the development set\n",
    "\n",
    "# calculate RMSLE\n",
    "train_rmsle = np.sqrt(mean_squared_error(np.log(y_train), y_pred_train))\n",
    "dev_rmsle = np.sqrt(mean_squared_error(np.log(y_dev), y_pred_dev))\n",
    "print(\"Train RMSLE:\", train_rmsle)\n",
    "print(\"Dev RMSLE:\", dev_rmsle)"
   ]
  },
  {
   "cell_type": "code",
   "execution_count": null,
   "metadata": {},
   "outputs": [],
   "source": []
  }
 ],
 "metadata": {
  "kernelspec": {
   "display_name": "Python 3",
   "language": "python",
   "name": "python3"
  },
  "language_info": {
   "codemirror_mode": {
    "name": "ipython",
    "version": 3
   },
   "file_extension": ".py",
   "mimetype": "text/x-python",
   "name": "python",
   "nbconvert_exporter": "python",
   "pygments_lexer": "ipython3",
   "version": "3.11.6"
  }
 },
 "nbformat": 4,
 "nbformat_minor": 2
}

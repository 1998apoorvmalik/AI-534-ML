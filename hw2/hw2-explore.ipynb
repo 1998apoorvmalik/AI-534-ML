{
 "cells": [
  {
   "cell_type": "code",
   "execution_count": 1,
   "metadata": {},
   "outputs": [],
   "source": [
    "from train import *"
   ]
  },
  {
   "cell_type": "code",
   "execution_count": 2,
   "metadata": {},
   "outputs": [
    {
     "name": "stdout",
     "output_type": "stream",
     "text": [
      "epoch 1, update 39.0%, dev 31.4%\n",
      "epoch 2, update 25.5%, dev 27.7%\n",
      "epoch 3, update 20.8%, dev 27.2%\n",
      "epoch 4, update 17.2%, dev 27.6%\n",
      "epoch 5, update 14.1%, dev 27.2%\n",
      "epoch 6, update 12.2%, dev 26.7%\n",
      "epoch 7, update 10.5%, dev 26.3%\n",
      "epoch 8, update 9.7%, dev 26.4%\n",
      "epoch 9, update 7.8%, dev 26.3%\n",
      "epoch 10, update 6.9%, dev 26.3%\n",
      "best dev err 26.3%, |w|=15806, time: 0.8 secs\n"
     ]
    }
   ],
   "source": [
    "model = train_avg_perceptron(\"train.txt\", \"dev.txt\", epochs=10)\n",
    "sorted_features = list(sorted(model.items(), key=lambda item: list(item)[1]))"
   ]
  },
  {
   "cell_type": "code",
   "execution_count": 3,
   "metadata": {},
   "outputs": [
    {
     "name": "stdout",
     "output_type": "stream",
     "text": [
      "Top 20 Most Positive Features:\n",
      "[Feature Name]                 [Weight]       \n",
      "engrossing                     639282.0       \n",
      "rare                           591348.0       \n",
      "french                         579413.0       \n",
      "unexpected                     559422.0       \n",
      "provides                       547909.0       \n",
      "triumph                        544577.0       \n",
      "cinema                         539322.0       \n",
      "powerful                       538348.0       \n",
      "treat                          533134.0       \n",
      "wonderful                      533020.0       \n",
      "pulls                          531673.0       \n",
      "skin                           529566.0       \n",
      "open                           524179.0       \n",
      "delightful                     511862.0       \n",
      "culture                        511269.0       \n",
      "refreshingly                   511237.0       \n",
      "dots                           504579.0       \n",
      "beautiful                      503583.0       \n",
      "speaks                         486053.0       \n",
      "unique                         471715.0       \n"
     ]
    }
   ],
   "source": [
    "print(\"Top 20 Most Positive Features:\")\n",
    "print(\"{:<30} {:<15}\".format(\"[Feature Name]\", \"[Weight]\"))\n",
    "for i in range(20):\n",
    "    print(\"{:<30} {:<15}\".format(sorted_features[-i-1][0], sorted_features[-i-1][1]))"
   ]
  },
  {
   "cell_type": "code",
   "execution_count": 4,
   "metadata": {},
   "outputs": [
    {
     "name": "stdout",
     "output_type": "stream",
     "text": [
      "Top 20 Most Negative Features:\n",
      "[Feature Name]                 [Weight]       \n",
      "boring                         -798158.0      \n",
      "dull                           -716451.0      \n",
      "generic                        -614812.0      \n",
      "fails                          -583379.0      \n",
      "too                            -579673.0      \n",
      "badly                          -571385.0      \n",
      "routine                        -563549.0      \n",
      "problem                        -562938.0      \n",
      "instead                        -554150.0      \n",
      "tv                             -542904.0      \n",
      "ill                            -542089.0      \n",
      "bad                            -528848.0      \n",
      "attempts                       -523295.0      \n",
      "guy                            -513014.0      \n",
      "flat                           -511995.0      \n",
      "worst                          -506568.0      \n",
      "unless                         -502886.0      \n",
      "suffers                        -494019.0      \n",
      "neither                        -493912.0      \n",
      "clich                          -490472.0      \n"
     ]
    }
   ],
   "source": [
    "print(\"Top 20 Most Negative Features:\")\n",
    "print(\"{:<30} {:<15}\".format(\"[Feature Name]\", \"[Weight]\"))\n",
    "for i in range(20):\n",
    "    print(\"{:<30} {:<15}\".format(sorted_features[i][0], sorted_features[i][1]))\n"
   ]
  },
  {
   "cell_type": "code",
   "execution_count": 5,
   "metadata": {},
   "outputs": [
    {
     "name": "stdout",
     "output_type": "stream",
     "text": [
      "dev err 26.3%\n"
     ]
    }
   ],
   "source": [
    "tot, err = 0, 0\n",
    "incorrect = []\n",
    "for i, (label, words) in enumerate(read_from('dev.txt'), 1): # note 1...|D|\n",
    "    pred = model.dot(make_vector(words))\n",
    "    if pred * label <= 0:\n",
    "        incorrect.append((i, label, pred))\n",
    "    err += label * (model.dot(make_vector(words))) <= 0\n",
    "print(\"dev err %.1f%%\" % (err/i * 100))\n",
    "incorrect.sort(key=lambda item: item[2])"
   ]
  },
  {
   "cell_type": "code",
   "execution_count": 6,
   "metadata": {},
   "outputs": [
    {
     "name": "stdout",
     "output_type": "stream",
     "text": [
      "Top 5 Most Negative (Incorrectly) Classified Examples:\n",
      "[Index]  [Sentence]\n",
      "366      the thing about guys like evans is this you 're never quite sure where self promotion ends and the truth begins but as you watch the movie , you 're too interested to care\n",
      "203      neither the funniest film that eddie murphy nor robert de niro has ever made , showtime is nevertheless efficiently amusing for a good while before it collapses into exactly the kind of buddy cop comedy it set out to lampoon , anyway\n",
      "915      even before it builds up to its insanely staged ballroom scene , in which 3000 actors appear in full regalia , it 's waltzed itself into the art film pantheon\n",
      "117      if i have to choose between gorgeous animation and a lame story ( like , say , treasure planet ) or so so animation and an exciting , clever story with a batch of appealing characters , i 'll take the latter every time\n",
      "186      return to never land may be another shameless attempt by disney to rake in dough from baby boomer families , but it 's not half bad\n",
      "\n",
      "\n",
      "Top 5 Most Positive (Incorrectly) Classified Examples:\n",
      "[Index]  [Sentence]\n",
      "237      ` in this poor remake of such a well loved classic , parker exposes the limitations of his skill and the basic flaws in his vision '\n",
      "788      mr wollter and ms seldhal give strong and convincing performances , but neither reaches into the deepest recesses of the character to unearth the quaking essence of passion , grief and fear\n",
      "923      bravo reveals the true intent of her film by carefully selecting interview subjects who will construct a portrait of castro so predominantly charitable it can only be seen as propaganda\n",
      "552      how much you are moved by the emotional tumult of fran ois and mich le 's relationship depends a lot on how interesting and likable you find them\n",
      "2        an atonal estrogen opera that demonizes feminism while gifting the most sympathetic male of the piece with a nice vomit bath at his wedding\n"
     ]
    }
   ],
   "source": [
    "dev_sentences = list(read_from('dev.txt'))\n",
    "print(\"Top 5 Most Negative (Incorrectly) Classified Examples:\")\n",
    "print(\"{:<8} {}\".format(\"[Index]\", \"[Sentence]\"))\n",
    "for i in range(5):\n",
    "    print(\"{:<8} {}\".format(incorrect[i][0], \" \".join(dev_sentences[incorrect[i][0] - 1][1])))\n",
    "\n",
    "print(\"\\n\\nTop 5 Most Positive (Incorrectly) Classified Examples:\")\n",
    "print(\"{:<8} {}\".format(\"[Index]\", \"[Sentence]\"))\n",
    "for i in range(5):\n",
    "    print(\"{:<8} {}\".format(incorrect[-i-1][0], \" \".join(dev_sentences[incorrect[-i-1][0] - 1][1])))\n"
   ]
  }
 ],
 "metadata": {
  "kernelspec": {
   "display_name": "Python 3",
   "language": "python",
   "name": "python3"
  },
  "language_info": {
   "codemirror_mode": {
    "name": "ipython",
    "version": 3
   },
   "file_extension": ".py",
   "mimetype": "text/x-python",
   "name": "python",
   "nbconvert_exporter": "python",
   "pygments_lexer": "ipython3",
   "version": "3.9.6"
  }
 },
 "nbformat": 4,
 "nbformat_minor": 2
}
